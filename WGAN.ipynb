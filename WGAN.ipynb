{
 "cells": [
  {
   "cell_type": "markdown",
   "metadata": {},
   "source": [
    "Some modifications:\n",
    "1. Use SELU as activation function instead of RELU.\n",
    "\n",
    "Two quesitons remain:\n",
    "1. Do we need to clamp the parameter of Generator?\n",
    "2. Is the loss WGAN trying to optimize equivalent to Eearh-over Distance?"
   ]
  },
  {
   "cell_type": "code",
   "execution_count": 5,
   "metadata": {},
   "outputs": [
    {
     "name": "stdout",
     "output_type": "stream",
     "text": [
      "Overwriting data/main.py\n"
     ]
    }
   ],
   "source": [
    "%%writefile data/main.py\n",
    "\n",
    "\n",
    "\n",
    "import torch\n",
    "import torch.nn as nn\n",
    "import torch.nn.functional as F\n",
    "import torch.optim as optim\n",
    "from torch.autograd import Variable\n",
    "import torch.utils.data\n",
    "from torchvision import datasets, transforms\n",
    "\n",
    "\n"
   ]
  },
  {
   "cell_type": "code",
   "execution_count": 7,
   "metadata": {},
   "outputs": [
    {
     "name": "stdout",
     "output_type": "stream",
     "text": [
      "Writing data/model.py\n"
     ]
    }
   ],
   "source": [
    "%%writefile data/model.py\n",
    "import torch\n",
    "import torch.nn as nn\n",
    "import torch.nn.functional as F\n",
    "from torch.autograd import Variable\n",
    "\n",
    "\n",
    "class Generator(nn.Module):\n",
    "    def __init__(self, norm_dim, hidden_size, nc, image_size):\n",
    "        super(Generator, self).__init__()\n",
    "        net = nn.Sequential(\n",
    "            nn.Linear(norm_dim, hidden_size),\n",
    "            nn.SELU(),\n",
    "            nn.Linear(hidden_size, hidden_size),\n",
    "            nn.SELU(),\n",
    "            nn.Linear(hidden_size, nc * image_size)\n",
    "        )\n",
    "        self.net = net\n",
    "        self.norm_dim = dim\n",
    "        self.hidden_size = hidden_size\n",
    "        self.nc = nc\n",
    "        self.image_size = image_size\n",
    "    \n",
    "    def forward(self, input):\n",
    "        input = input.view(input.size(0), input.size(1))\n",
    "        \n",
    "\n",
    "class Discriminator(nn.Module):\n",
    "    def __init__(self):\n",
    "        super(Discriminator, self).__init__()\n",
    "        net = nn.Sequential(\n",
    "            nn.Linear()\n",
    "        )\n",
    "    \n",
    "    def forward(self, input):\n",
    "        \n"
   ]
  }
 ],
 "metadata": {
  "kernelspec": {
   "display_name": "Python 2",
   "language": "python",
   "name": "python2"
  },
  "language_info": {
   "codemirror_mode": {
    "name": "ipython",
    "version": 2
   },
   "file_extension": ".py",
   "mimetype": "text/x-python",
   "name": "python",
   "nbconvert_exporter": "python",
   "pygments_lexer": "ipython2",
   "version": "2.7.12"
  }
 },
 "nbformat": 4,
 "nbformat_minor": 2
}
